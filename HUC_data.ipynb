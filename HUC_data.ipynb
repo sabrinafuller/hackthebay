{
 "cells": [
  {
   "cell_type": "code",
   "execution_count": 9,
   "metadata": {},
   "outputs": [],
   "source": [
    "import pandas as pd\n",
    "import numpy as np\n",
    "import matplotlib.pyplot as plt\n",
    "import seaborn as sns\n",
    "pd.options.mode.chained_assignment = None\n",
    "import urllib.request\n",
    "import urllib \n",
    "import csv\n",
    "import folium\n",
    "import random\n",
    "from mpl_toolkits import mplot3d \n",
    "#if something says isn't installed, !pip install [library]\n",
    "##probably don't need all these, just transferred them over"
   ]
  },
  {
   "cell_type": "code",
   "execution_count": 2,
   "metadata": {},
   "outputs": [],
   "source": [
    "##Adds data frames for easier date useage, we got year, month and week of year\n",
    "def formatDates(point_df):\n",
    "    point_df[\"Year\"] = pd.DatetimeIndex(point_df['Date']).year\n",
    "    point_df[\"Month\"] = pd.DatetimeIndex(point_df['Date']).month\n",
    "    point_df[\"WeekOfYear\"] = pd.DatetimeIndex(point_df['Date']).weekofyear\n",
    "    print(\"Data collection date range of point_1 \", point_df[\"Date\"].min(), point_df[\"Date\"].max())\n",
    "    return point_df"
   ]
  },
  {
   "cell_type": "code",
   "execution_count": 3,
   "metadata": {},
   "outputs": [
    {
     "name": "stdout",
     "output_type": "stream",
     "text": [
      "Data collection date range of point_1  1992-11-01 00:00:00 2020-07-08 00:00:00\n"
     ]
    }
   ],
   "source": [
    "#this might take a while\n",
    "water_quality_final = pd.read_csv('Water_FINAL.csv', low_memory= False)\n",
    "water_quality_final.shape\n",
    "water_quality_final.drop(columns = {\"Unnamed: 0\", \"Unnamed: 0.1\", \"Agency\", \"BiasPC\", \"CloudCover\", \"Comments\"}, inplace = True )\n",
    "#list_of_columns = list(water_quality_final.columns)\n",
    "#formate the dates and such\n",
    "water_quality_final['Date'] = pd.to_datetime(water_quality_final.Date)\n",
    "\n",
    "water_quality_final[\"TierLevel\"]= water_quality_final[\"TierLevel\"].replace({\"T3\": 3, \"p2\": 2,\"p1\": 1, \"3.0\": 3, \"2.0\": 2,\"1.0\": 1})\n",
    "\n",
    "water_quality_final[\"TierLevel\"] = water_quality_final[\"TierLevel\"].astype(int)\n",
    "water_quality_final[\"HUCNAME_\"] = water_quality_final[\"HUCNAME_\"].str.lower()\n",
    "\n",
    "water_temp = water_quality_final[water_quality_final[\"Unit\"] == \"DEG C\"]\n",
    "water_temp = water_temp[\"MeasureValue\"].where(water_quality_final[\"TierLevel\"] == 3)\n",
    "\n",
    "water_quality_final = formatDates(water_quality_final)\n",
    "#water temp has all the temp data \n"
   ]
  },
  {
   "cell_type": "code",
   "execution_count": null,
   "metadata": {},
   "outputs": [],
   "source": [
    "## Run this cell if you need the list of the different creek names with the key words \n",
    "\n",
    "a= list(water_quality_final[\"HUCNAME_\"].unique())\n",
    "for i in range(0,len(a)-1): a[i] = a[i].lower()\n",
    "susqu_creeks  = list(filter(lambda lam_s: \"susquehanna\" in lam_s, a)) \n",
    "bald_eagle_creeks = list(filter(lambda lam_be: \"bald eagle\" in lam_be, a))\n",
    "lick_run_creeks = list(filter(lambda lam_lc: \"lick run\" in lam_lc, a)) \n",
    "beech_creeks = list(filter(lambda lam_lb: \"beech creek\" in lam_lb, a)) \n",
    "codorus_creeks = list(filter(lambda lam_lcor: \"codorus\" in lam_lcor, a)) \n",
    "pine_creeks = list(filter(lambda lam_lp: \"pine\" in lam_lp, a)) \n",
    "tioga_creeks = list(filter(lambda lam_lt: \"tioga river\" in lam_lt, a)) \n",
    "\n",
    "masden_creeks = list(filter(lambda lam_lm: \"masden\" in lam_lm, a)) \n",
    "\n",
    "furnace_creeks = list(filter(lambda lam_f: \"furnace\" in lam_f, a)) \n"
   ]
  },
  {
   "cell_type": "code",
   "execution_count": null,
   "metadata": {},
   "outputs": [],
   "source": []
  },
  {
   "cell_type": "code",
   "execution_count": null,
   "metadata": {},
   "outputs": [],
   "source": [
    "# This will give you the data frames for the below water sheds stored in \"creeks of interest\" \n",
    "#if input year is zero just returns the entire data frame\n",
    "def get_HUC_temp_data(HUC_name, input_df, year)\n",
    "\n",
    "    _creek = input_df[input_df['HUCNAME_'].str.contains(HUC_name, na=False) ]\n",
    "    if(year =0):\n",
    "        return _creek\n",
    "    else:\n",
    "        _creek= _creek[(_creek[\"Year\"] == year) & (_creek[\"Parameter\"]==\"WTEMP\")]\n",
    "        return _creek\n"
   ]
  },
  {
   "cell_type": "code",
   "execution_count": null,
   "metadata": {},
   "outputs": [],
   "source": [
    "\n",
    "creeks_of_interest = \"masden run-bald eagle creek\", \"outlet tioga river\",\"middle tioga river\", \"dee run-codorus creek\",\\\n",
    "    \"beech creek\",\"laurel run-bald eagle creek\",\"furnace run-pine creek\"]\n",
    "\n",
    "masden_baldeagle_creek = get_HUC_temp_data(creeks_of_interest[0], water_quality_final, 0)\n",
    "outlet_tioga_river = get_HUC_temp_data(creeks_of_interest[1], water_quality_final, 0)\n",
    "middle_tioga_river = get_HUC_temp_data(creeks_of_interest[2], water_quality_final, 0)\n",
    "\n",
    "dee_run_creek = get_HUC_temp_data(creeks_of_interest[3], water_quality_final, 0)\n",
    "beech_creek = get_HUC_temp_data(creeks_of_interest[4], water_quality_final, 0)\n",
    "laurel_run_creek = get_HUC_temp_data(creeks_of_interest[5], water_quality_final, 0)\n",
    "furnace_run_creek = get_HUC_temp_data(creeks_of_interest[6], water_quality_final, 0)\n"
   ]
  },
  {
   "cell_type": "code",
   "execution_count": 8,
   "metadata": {
    "jupyter": {
     "source_hidden": true
    }
   },
   "outputs": [],
   "source": [
    "#takes in a year array and a data frame\n",
    "def plotYear_temp(years, a_creek):\n",
    "    \n",
    "    op = 1\n",
    "    for i in years :\n",
    "        a_filter= a_creek[(a_creek[\"Year\"] == i) & (a_creek[\"Parameter\"]==\"WTEMP\")]\n",
    "        y = a_filter[\"MeasureValue\"]\n",
    "        x = a_filter[\"WeekOfYear\"]\n",
    "\n",
    "        plt.scatter( x,y, alpha = op)\n",
    "        op-=0.2\n",
    "\n",
    "    #plt.plot(x,y ,'-o')\n",
    "    plt.show()\n",
    "    plt.ylabel('some numbers')\n",
    "years= [2012, 2018]\n",
    "#plotYear_temp(years, a)"
   ]
  },
  {
   "cell_type": "code",
   "execution_count": 14,
   "metadata": {},
   "outputs": [],
   "source": [
    "### This gets the annual averages from NOAA\n",
    "## gets the monthly long term max and min averages for all stations, \n",
    "## stationInventory.txt gets you all the weather stations with lat and long, select the ID of the ones you want and\n",
    "## place in the 'weather_station = set()' variable\n",
    "## can work on \n",
    "station_inventory = 'ftp://ftp.ncdc.noaa.gov/pub/data/normals/1981-2010/station-inventories/'\n",
    "urllib.request.urlretrieve('ftp://ftp.ncdc.noaa.gov/pub/data/normals/1981-2010/products/temperature/', \"stationInventory.txt\")\n",
    "temp_data = [\"mly-tmax-normal.txt\" , \"mly-tmin-normal.txt\"]\n",
    "for i in temp_data:\n",
    "    urllib.request.urlretrieve('ftp://ftp.ncdc.noaa.gov/pub/data/normals/1981-2010/products/temperature/', i)"
   ]
  },
  {
   "cell_type": "code",
   "execution_count": 18,
   "metadata": {},
   "outputs": [],
   "source": [
    "\n"
   ]
  },
  {
   "cell_type": "code",
   "execution_count": 16,
   "metadata": {},
   "outputs": [
    {
     "data": {
      "text/plain": [
       "('mly-tmin-normal.txt', <email.message.Message at 0x16d1dbeddc8>)"
      ]
     },
     "execution_count": 16,
     "metadata": {},
     "output_type": "execute_result"
    }
   ],
   "source": []
  },
  {
   "cell_type": "code",
   "execution_count": null,
   "metadata": {},
   "outputs": [],
   "source": [
    "def getCSV(infile_, outfile_, weather_stations):\n",
    "    a = \"\"\n",
    "    line = \"\"\n",
    "    with open(infile_) as infile, open(outfile_,'w', encoding='utf-8') as outfile: \n",
    "        for line in infile: \n",
    "            x = line.split(\" \")\n",
    "\n",
    "            if (x[0] in weather_stations ):\n",
    "            \n",
    "                for i in range(50): \n",
    "\n",
    "                    try:\n",
    "                        #line[i+1] = line[i+1]\n",
    "                        if((x[i]!= \"\" )):\n",
    "                            t = x[i].strip()\n",
    "                            if(t[-1].isalpha()):\n",
    "                                \n",
    "                                a =a+ t[0:-1]+\",\"\n",
    "                            else: \n",
    "                                a =a+ x[i].strip()+\",\"\n",
    "\n",
    "                    except IndexError:\n",
    "                        t = 0\n",
    "                outfile.write(a[0:-1])\n",
    "                outfile.write('\\n')\n",
    "            a = \"\"\n",
    "\n",
    "    outfile.close()\n",
    "    \n"
   ]
  },
  {
   "cell_type": "code",
   "execution_count": null,
   "metadata": {},
   "outputs": [],
   "source": [
    "col = [\"Station\" ,\"JAN\", \"FEB\", \"MAR\", \"APR\", \"MAY\", \"JUN\", \"JUL\", \"AUG\", \"SEP\", \"OCT\", \"NOV\", \"DEC\"]\n",
    "def formatTempData(fileNameMin_, fileNameMax_, point_1_wtemp, file_name_):\n",
    "    \n",
    "    df_monthly_max = pd.read_csv(\"monthly_max_1.csv\", error_bad_lines=False,  names = col, header = None)\n",
    "    df_monthly_min = pd.read_csv(\"monthly_min_1.csv\", error_bad_lines = False, names = col, header = None)\n",
    "    ##formate the data for graphable\n",
    "    df_monthly_max = df_monthly_max.T  \n",
    "    df_monthly_max.columns = list(df_monthly_max.iloc[0])\n",
    "    df_monthly_max.drop(\"Station\", axis = 0, inplace = True)\n",
    "    df_monthly_max[\"MonthNum\"] = list([1,2,3,4,5,6,7,8,9,10,11,12])\n",
    "    df_monthly_max = df_monthly_max.T \n",
    "##formate the data for graphable\n",
    "    df_monthly_min = df_monthly_min.T  \n",
    "    df_monthly_min.columns = list(df_monthly_min.iloc[0])\n",
    "    df_monthly_min.drop(\"Station\", axis = 0, inplace = True)\n",
    "    df_monthly_min[\"MonthNum\"] = list([1,2,3,4,5,6,7,8,9,10,11,12])\n",
    "    df_monthly_min = df_monthly_min.T \n",
    "    plt.scatter(list(df_monthly_max.iloc[2]),np.asarray(df_monthly_max.iloc[1]/10),color='red')\n",
    "    plt.scatter(list(df_monthly_min.iloc[2]),np.asarray(df_monthly_min.iloc[1]/10),color='blue')\n",
    "    plt.scatter(list(point_1_wtemp[\"Month\"]), list(point_1_wtemp[\"MeasureValue\"]), color =\"green\" )\n",
    "    plt.savefig(\"point_1_tioga.png\")\n",
    "    plt.show()\n",
    "\n",
    "\n",
    "   \n",
    "    return df_monthly_max, df_monthly_min"
   ]
  },
  {
   "cell_type": "code",
   "execution_count": null,
   "metadata": {},
   "outputs": [],
   "source": [
    "\n",
    "#getCSV formates the NOAA data into a CSV, need to optimize this later since currently downloads the entire file--and we don't need it all\n",
    "#formateTempData returns the data frame of monthly min and max data, as well as plots\n",
    "\n",
    "\n",
    "\n",
    "\n",
    "\n",
    "weather_files = \"mly-tmax-normal.txt\" , \"mly-tmin-normal.txt\",\"monthly_max_1.csv\",\"monthly_min_1.csv\"\n",
    "#weather_stations = set([\"USC00364976\", 'USC00364992'])\n",
    "weather_stations = set(['USC00369933'])\n",
    "tioga_stations = set(['USC00361838','USC00366297'])\n",
    "\n",
    "getCSV(weather_files[0], weather_files[2], tioga_stations)\n",
    "getCSV(weather_files[1], weather_files[3], tioga_stations)\n",
    "monthly_min, monthly_max= formatTempData(\"monthly_min_1.csv\" , \"monthly_max_1.csv\", point_1_wtemp,\"Tioga.png\")\n",
    "monthly_min, monthly_max= formatTempData(\"monthly_min_1.csv\" , \"monthly_max_1.csv\",point_1_wtemp, \"point_1.png\")"
   ]
  },
  {
   "cell_type": "code",
   "execution_count": null,
   "metadata": {
    "jupyter": {
     "source_hidden": true
    }
   },
   "outputs": [],
   "source": [
    "## These functions will make different plots, distribtuion, scatter plots and 3Dplots \n",
    "\n",
    "def makeDistPlot(data, label, units):\n",
    "    distplot = sns.distplot(data.MeasureValue)\n",
    "   \n",
    "    plt.xlabel('Year')\n",
    "    plt.ylabel(units)\n",
    "    plt.title('Distribution plot of' + label +  '\\n' + units)\n",
    "    plt.show()\n",
    "    return distplot\n",
    "def makeScatterPlot(data, label, units, ymw):\n",
    "    cmap = sns.cubehelix_palette(dark=.3, light=.8, as_cmap=True)\n",
    "    if(ymw == 'y'):\n",
    "        plt.title(\"Scatter plot of mean year  of  \" + label + '\\n'+ units)\n",
    "        plt.xlabel('Year')\n",
    "        yearplot = sns.scatterplot(x = \"Year\", y = data[\"MeasureValue\"].mean(), data = data)\n",
    "    if(ymw == 'm'):\n",
    "        plt.title(\"Scatter plot of monthly level of  \" + label + '\\n'+ units)\n",
    "        plt.xlabel('Month')\n",
    "        yearplot = sns.scatterplot(x = \"Month\", y = data[\"MeasureValue\"], hue=\"Year\", palette=cmap, data = data)\n",
    "    if(ymw == 'w'):\n",
    "        #NEEd the titles to change\n",
    "        plt.title(\"Scatter plot of weekly level of  \" + label + '\\n'+ units)\n",
    "        plt.xlabel('Week')\n",
    "        yearplot = sns.scatterplot(x = \"WeekOfYear\", y = data[\"MeasureValue\"], hue=\"Year\",palette=cmap,data = data)\n",
    "    \n",
    "    plt.ylabel(units)\n",
    "    plt.show()\n",
    "        \n",
    "    return yearplot\n",
    "def make3Dfig(data, label):\n",
    "    cmap = sns.cubehelix_palette(dark=.3, light=.8, as_cmap=True)\n",
    "# Creating figure \n",
    "    fig = plt.figure(figsize = (10, 10)) \n",
    "    ax = plt.axes(projection =\"3d\") \n",
    "\n",
    "    # Creating plot \n",
    "    ax.scatter3D(data.Year, data.WeekOfYear, data.MeasureValue,color = \"green\"); \n",
    "    ax.set_xlabel(\"Year\")\n",
    "    ax.set_ylabel(\"Week of Year\")\n",
    "    ax.set_zlabel(\"Nutrient level\")\n",
    "    plt.title(label) \n",
    "\n",
    "    # show plot \n",
    "    plt.show() \n",
    "    return \n",
    "\n"
   ]
  }
 ],
 "metadata": {
  "kernelspec": {
   "display_name": "Python 3",
   "language": "python",
   "name": "python3"
  },
  "language_info": {
   "codemirror_mode": {
    "name": "ipython",
    "version": 3
   },
   "file_extension": ".py",
   "mimetype": "text/x-python",
   "name": "python",
   "nbconvert_exporter": "python",
   "pygments_lexer": "ipython3",
   "version": "3.7.6"
  }
 },
 "nbformat": 4,
 "nbformat_minor": 4
}
